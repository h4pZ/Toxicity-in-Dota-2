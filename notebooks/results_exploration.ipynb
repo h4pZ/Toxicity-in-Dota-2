{
 "cells": [
  {
   "cell_type": "code",
   "execution_count": 1,
   "metadata": {},
   "outputs": [],
   "source": [
    "import json\n",
    "import joblib\n",
    "import pandas as pd"
   ]
  },
  {
   "cell_type": "code",
   "execution_count": 2,
   "metadata": {},
   "outputs": [
    {
     "name": "stdout",
     "output_type": "stream",
     "text": [
      "/home/h4pz/Drive/h4pZ/universities/master/semesters/2019_02/text_mining/project/notebooks\n"
     ]
    }
   ],
   "source": [
    "!pwd"
   ]
  },
  {
   "cell_type": "code",
   "execution_count": 3,
   "metadata": {},
   "outputs": [],
   "source": [
    "stages = [\"early\", \"mid\", \"late\"]\n",
    "models_top_words = joblib.load(\"../models/models_top_words.joblib\")\n",
    "toxicity = joblib.load(\"../models/toxicity_scores.joblib\")"
   ]
  },
  {
   "cell_type": "code",
   "execution_count": null,
   "metadata": {},
   "outputs": [],
   "source": []
  },
  {
   "cell_type": "code",
   "execution_count": 4,
   "metadata": {},
   "outputs": [
    {
     "name": "stdout",
     "output_type": "stream",
     "text": [
      "STAGE: EARLY GAME\n",
      "\n",
      "Topic 0\n",
      "{\n",
      "    \"game\": 0.04603935324328036,\n",
      "    \"team\": 0.03990738763202455,\n",
      "    \"play\": 0.021307624251547776,\n",
      "    \"pudge\": 0.01731388736590465,\n",
      "    \"win\": 0.01683985010127679,\n",
      "    \"come\": 0.01619867316351357,\n",
      "    \"nice\": 0.015580148188270759,\n",
      "    \"carry\": 0.012564154360522706,\n",
      "    \"coming\": 0.012469757948715412,\n",
      "    \"thanks\": 0.012117387633410906\n",
      "}\n",
      "\n",
      "Topic 1\n",
      "{\n",
      "    \"time\": 0.018147765934593156,\n",
      "    \"know\": 0.01794405590436201,\n",
      "    \"rofl\": 0.017213048160700743,\n",
      "    \"guys\": 0.015346486927088168,\n",
      "    \"want\": 0.01306933549811964,\n",
      "    \"think\": 0.01129400900786615,\n",
      "    \"got\": 0.011074082844358686,\n",
      "    \"wtf\": 0.010562968811271903,\n",
      "    \"man\": 0.010234757022887089,\n",
      "    \"stop\": 0.009110313164821951\n",
      "}\n",
      "\n",
      "Topic 2\n",
      "{\n",
      "    \"report\": 0.04421644180348739,\n",
      "    \"fuck\": 0.035419686419188884,\n",
      "    \"fucking\": 0.02486862572815261,\n",
      "    \"mid\": 0.021278726691418556,\n",
      "    \"shit\": 0.020954532851747407,\n",
      "    \"pls\": 0.0188386924794087,\n",
      "    \"wait\": 0.018814404575760273,\n",
      "    \"feed\": 0.014265344410388158,\n",
      "    \"new\": 0.010292307999068002,\n",
      "    \"need\": 0.00930155306895672\n",
      "}\n",
      "\n",
      "STAGE: MID GAME\n",
      "\n",
      "Topic 0\n",
      "{\n",
      "    \"game\": 0.05062046165519511,\n",
      "    \"fuck\": 0.025864531101988872,\n",
      "    \"win\": 0.023033345173226066,\n",
      "    \"carry\": 0.0193436183076661,\n",
      "    \"pudge\": 0.017440780147160714,\n",
      "    \"nice\": 0.015198257222269805,\n",
      "    \"lol\": 0.012569708062783534,\n",
      "    \"got\": 0.011735503546741934,\n",
      "    \"worth\": 0.011708172946087538,\n",
      "    \"trash\": 0.011040190483861964\n",
      "}\n",
      "\n",
      "Topic 1\n",
      "{\n",
      "    \"report\": 0.0657403218536337,\n",
      "    \"team\": 0.056934008649614586,\n",
      "    \"shit\": 0.02414474521939412,\n",
      "    \"pls\": 0.019733728367123015,\n",
      "    \"rofl\": 0.014049108855439136,\n",
      "    \"play\": 0.013954427433014387,\n",
      "    \"know\": 0.01389260332697413,\n",
      "    \"pick\": 0.01332469666368775,\n",
      "    \"come\": 0.010461364319619762,\n",
      "    \"thanks\": 0.009137978039659378\n",
      "}\n",
      "\n",
      "Topic 2\n",
      "{\n",
      "    \"fucking\": 0.031066946205021068,\n",
      "    \"end\": 0.018672050553428382,\n",
      "    \"mid\": 0.017104710586971578,\n",
      "    \"good\": 0.015859776186770234,\n",
      "    \"commend\": 0.014057721235085233,\n",
      "    \"want\": 0.01267497817619266,\n",
      "    \"easy\": 0.01144041779433787,\n",
      "    \"hero\": 0.010998146259716927,\n",
      "    \"noob\": 0.010946678919230157,\n",
      "    \"man\": 0.00943534749193076\n",
      "}\n",
      "\n",
      "STAGE: LATE GAME\n",
      "\n",
      "Topic 0\n",
      "{\n",
      "    \"win\": 0.03262003669580829,\n",
      "    \"carry\": 0.02464320316362583,\n",
      "    \"play\": 0.019433030332694532,\n",
      "    \"time\": 0.015650758352207656,\n",
      "    \"like\": 0.013031539397093549,\n",
      "    \"got\": 0.011885970012848026,\n",
      "    \"want\": 0.009891330967052551,\n",
      "    \"think\": 0.009689534070060818,\n",
      "    \"lose\": 0.009315921635730176,\n",
      "    \"kill\": 0.009217673428743491\n",
      "}\n",
      "\n",
      "Topic 1\n",
      "{\n",
      "    \"report\": 0.07622312044134782,\n",
      "    \"game\": 0.05837331838197684,\n",
      "    \"team\": 0.058304974541265875,\n",
      "    \"fucking\": 0.025536057863197487,\n",
      "    \"fuck\": 0.02362879665022021,\n",
      "    \"pls\": 0.018844940057937777,\n",
      "    \"pudge\": 0.016925454554624006,\n",
      "    \"easy\": 0.015162367489900377,\n",
      "    \"lol\": 0.01223458634647902,\n",
      "    \"rofl\": 0.011262450818963413\n",
      "}\n",
      "\n",
      "Topic 2\n",
      "{\n",
      "    \"commend\": 0.03649401733618687,\n",
      "    \"shit\": 0.02802276689824523,\n",
      "    \"good\": 0.017258821192696647,\n",
      "    \"end\": 0.01530943879292897,\n",
      "    \"guys\": 0.015050459752968095,\n",
      "    \"trash\": 0.01306646614659731,\n",
      "    \"come\": 0.012892774824396382,\n",
      "    \"thanks\": 0.012813630891142633,\n",
      "    \"noob\": 0.011883957485003453,\n",
      "    \"pick\": 0.011516705415122092\n",
      "}\n",
      "\n"
     ]
    }
   ],
   "source": [
    "for i, stage in enumerate(stages):\n",
    "    print(f\"STAGE: {stage.upper()} GAME\")\n",
    "\n",
    "    for j in range(3):\n",
    "        print(f\"\\nTopic {j}\")\n",
    "        print(json.dumps(models_top_words[i][j], indent=4))\n",
    "\n",
    "    print(\"\")"
   ]
  },
  {
   "cell_type": "code",
   "execution_count": 5,
   "metadata": {},
   "outputs": [
    {
     "data": {
      "text/plain": [
       "{'early': [0.03830188841600605, 0.08903556258384705, 0.37192936748378336],\n",
       " 'mid': [0.20680063497444817, 0.11698635094316356, 0.264279301230828],\n",
       " 'late': [0.09340572402434646, 0.1771441305496347, 0.26937365221662257]}"
      ]
     },
     "execution_count": 5,
     "metadata": {},
     "output_type": "execute_result"
    }
   ],
   "source": [
    "toxicity"
   ]
  }
 ],
 "metadata": {
  "kernelspec": {
   "display_name": "Python [conda env:h4pz] *",
   "language": "python",
   "name": "conda-env-h4pz-py"
  },
  "language_info": {
   "codemirror_mode": {
    "name": "ipython",
    "version": 3
   },
   "file_extension": ".py",
   "mimetype": "text/x-python",
   "name": "python",
   "nbconvert_exporter": "python",
   "pygments_lexer": "ipython3",
   "version": "3.7.6"
  }
 },
 "nbformat": 4,
 "nbformat_minor": 4
}
